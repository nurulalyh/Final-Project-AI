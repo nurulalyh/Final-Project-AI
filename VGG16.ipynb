{
 "cells": [
  {
   "cell_type": "code",
   "execution_count": null,
   "metadata": {},
   "outputs": [],
   "source": [
    "import os\n",
    "\n",
    "base_dir = 'Toyota_Car'\n",
    "\n",
    "print(os.listdir(base_dir))\n",
    "\n",
    "\"\"\"Untuk mengetahui jumlah file yang ada, dapat menggunakan fungsi `len()` pada tiap direktori label dan menjumlahkannya. Untuk memudahkan pembacaan data dapat juga divisualisasikan menggunakan bantuan library `matplotlib`.\"\"\""
   ]
  },
  {
   "cell_type": "code",
   "execution_count": null,
   "metadata": {},
   "outputs": [],
   "source": [
    "# Menghitung jumlah gambar pada dataset\n",
    "number_label = {}\n",
    "total_files = 0\n",
    "for i in os.listdir(base_dir):\n",
    "    counting = len(os.listdir(os.path.join(base_dir, i)))\n",
    "    number_label[i] = counting\n",
    "    total_files += counting\n",
    "\n",
    "print(\"Total Files : \" + str(total_files))"
   ]
  },
  {
   "cell_type": "code",
   "execution_count": null,
   "metadata": {},
   "outputs": [],
   "source": [
    "# Visualisasi jumlah gambar tiap kelas\n",
    "import matplotlib.pyplot as plt\n",
    "\n",
    "plt.bar(number_label.keys(), number_label.values());\n",
    "plt.title(\"Jumlah Gambar Tiap Label\");\n",
    "plt.xlabel('Label');\n",
    "plt.ylabel('Jumlah Gambar');\n",
    "print();\n",
    "\n",
    "\"\"\"Dari diagram batang di atas dapat diketahui bahwa gambar yang ada pada setiap label memiliki jumlah yang berbeda-beda. Semua label memiliki jumlah lebih dari 700 gambar. Jumlah gambar paling banyak ada pada bunga Dandelion, sedangkan yang paling sedikit adalah bunga matahari (Sunflower). Namun perbedaan jumlah gambar tidak terlalu jauh dan tidak perlu diseimbangkan.\"\"\""
   ]
  },
  {
   "cell_type": "code",
   "execution_count": null,
   "metadata": {},
   "outputs": [],
   "source": [
    "# Menampilkan sampel gambar tiap kelas\n",
    "import matplotlib.image as mpimg\n",
    "\n",
    "img_each_class = 1\n",
    "img_samples = {}\n",
    "classes = list(number_label.keys())\n",
    "\n",
    "for c in classes:\n",
    "    temp = os.listdir(os.path.join(base_dir, c))[:img_each_class]\n",
    "    for item in temp:\n",
    "        img_path = os.path.join(base_dir, c, item)\n",
    "        img_samples[c] = img_path\n",
    "\n",
    "for i in img_samples:\n",
    "    fig = plt.gcf()\n",
    "    img = mpimg.imread(img_samples[i])\n",
    "    plt.title(i)\n",
    "    plt.imshow(img)\n",
    "    plt.show()"
   ]
  },
  {
   "cell_type": "code",
   "execution_count": null,
   "metadata": {},
   "outputs": [],
   "source": [
    "\"\"\"Dari beberapa gambar di atas dapat diketahui bahwa gambar yang tersedia pada dataset ini memiliki ukuran yang berbeda-beda.\n",
    "\n",
    "## Data Preparation\n",
    "\n",
    "Setelah memahami data, selanjutnya adalah mempersiapkan data sebelum nantinya masuk ke modelling. Penyiapan ini termasuk didalamnya adalah pembagian data (split) menjadi data latih dan validasi. Pembagian data ini diperlukan sebelum nantinya digunakan untuk melatih model yang dibuat serta menghitung akurasi modelnya.\n",
    "\"\"\"\n",
    "\n",
    "IMAGE_SIZE = (200, 200)\n",
    "BATCH_SIZE = 32\n",
    "SEED = 999"
   ]
  },
  {
   "cell_type": "code",
   "execution_count": null,
   "metadata": {},
   "outputs": [],
   "source": [
    "# Menggunakan ImageDataGenerator untuk preprocessing\n",
    "import tensorflow as tf\n",
    "\n",
    "datagen = tf.keras.preprocessing.image.ImageDataGenerator(\n",
    "    validation_split=0.3\n",
    ")"
   ]
  },
  {
   "cell_type": "code",
   "execution_count": null,
   "metadata": {},
   "outputs": [],
   "source": [
    "# Menyiapkan data train dan data validation\n",
    "train_data = datagen.flow_from_directory(\n",
    "    base_dir,\n",
    "    class_mode='categorical',\n",
    "    subset='training',\n",
    "    target_size=IMAGE_SIZE,\n",
    "    batch_size=BATCH_SIZE,\n",
    "    seed=SEED\n",
    ")\n",
    "\n",
    "valid_data = datagen.flow_from_directory(\n",
    "    base_dir,\n",
    "    class_mode='categorical',\n",
    "    subset='validation',\n",
    "    target_size=IMAGE_SIZE,\n",
    "    batch_size=BATCH_SIZE,\n",
    "    seed=SEED\n",
    ")\n",
    "\n",
    "\"\"\"Selain membagi data, akan diterapkan juga image augmentation. Hal ini diterapkan berdasarkan data gambar yang telah ditampilkan sebelumnya. Image augmentation yang dilakukan\n",
    " di sini menggunakan layer RandomFlip, RandomRotation, RandomZoom serta Rescaling pada gambar.\n",
    "\"\"\""
   ]
  },
  {
   "cell_type": "code",
   "execution_count": null,
   "metadata": {},
   "outputs": [],
   "source": [
    "# Image Augmentation\n",
    "data_augmentation = tf.keras.Sequential(\n",
    "    [\n",
    "        tf.keras.layers.RandomFlip(\"horizontal\",\n",
    "                                   input_shape=(IMAGE_SIZE[0],\n",
    "                                                IMAGE_SIZE[1],\n",
    "                                                3)),\n",
    "        tf.keras.layers.RandomRotation(0.1),\n",
    "        tf.keras.layers.RandomZoom(0.1),\n",
    "        tf.keras.layers.Rescaling(1. / 255)\n",
    "    ]\n",
    ")"
   ]
  },
  {
   "cell_type": "code",
   "execution_count": null,
   "metadata": {},
   "outputs": [],
   "source": [
    "\"\"\"### Transfer Learning Menggunakan VGG16\n",
    "\n",
    "#### Memuat Model VGG16\n",
    "\"\"\"\n",
    "import keras\n",
    "import keras_applications\n",
    "import tensorflow as tf\n",
    "from keras.applications.vgg16 import VGG16"
   ]
  },
  {
   "cell_type": "code",
   "execution_count": null,
   "metadata": {},
   "outputs": [],
   "source": [
    "## Loading VGG16 model\n",
    "base_vgg_model = VGG16(weights=\"imagenet\", include_top=False, input_shape=(IMAGE_SIZE[0], IMAGE_SIZE[1], 3))\n",
    "base_vgg_model.trainable = False"
   ]
  },
  {
   "cell_type": "code",
   "execution_count": null,
   "metadata": {},
   "outputs": [],
   "source": [
    "# Preprocessing Input\n",
    "vgg_preprocess = tf.keras.applications.vgg16.preprocess_input\n",
    "train_data.preprocessing_function = vgg_preprocess"
   ]
  },
  {
   "cell_type": "code",
   "execution_count": null,
   "metadata": {},
   "outputs": [],
   "source": [
    "# Transfer learning dengan VGG16\n",
    "vgg_model = tf.keras.models.Sequential([\n",
    "    data_augmentation,\n",
    "    base_vgg_model,\n",
    "    tf.keras.layers.Dropout(0.7),\n",
    "    tf.keras.layers.Flatten(),\n",
    "    tf.keras.layers.Dense(64, activation='relu'),\n",
    "    tf.keras.layers.Dense(64, activation='relu'),\n",
    "    tf.keras.layers.Dense(5, activation='softmax')\n",
    "])"
   ]
  },
  {
   "cell_type": "code",
   "execution_count": null,
   "metadata": {},
   "outputs": [],
   "source": [
    "# Compiling model\n",
    "vgg_model.compile(\n",
    "    loss='categorical_crossentropy',\n",
    "    optimizer=tf.keras.optimizers.Adam(),\n",
    "    metrics=['accuracy']\n",
    ")"
   ]
  },
  {
   "cell_type": "code",
   "execution_count": null,
   "metadata": {},
   "outputs": [],
   "source": [
    "\"\"\"#### Melatih Model\"\"\"\n",
    "\n",
    "# Melatih model VGG16\n",
    "vgg_hist = vgg_model.fit(\n",
    "    train_data,\n",
    "    epochs=20,\n",
    "    validation_data=valid_data\n",
    ")"
   ]
  },
  {
   "cell_type": "code",
   "execution_count": null,
   "metadata": {},
   "outputs": [],
   "source": [
    "\"\"\"#### Evaluasi Model\"\"\"\n",
    "\n",
    "# Membuat plot akurasi model VGG16\n",
    "plt.figure(figsize=(10, 4))\n",
    "plt.plot(vgg_hist.history['accuracy'])\n",
    "plt.plot(vgg_hist.history['val_accuracy'])\n",
    "plt.title('VGG16 model accuracy')\n",
    "plt.ylabel('accuracy')\n",
    "plt.xlabel('epoch')\n",
    "plt.legend(['train', 'test'], loc='upper left')\n",
    "plt.grid(True)\n",
    "plt.show()\n",
    "\n",
    "print()"
   ]
  },
  {
   "cell_type": "code",
   "execution_count": null,
   "metadata": {},
   "outputs": [],
   "source": [
    "# Membuat plot loss model VGG16\n",
    "plt.figure(figsize=(10, 4))\n",
    "plt.plot(vgg_hist.history['loss'])\n",
    "plt.plot(vgg_hist.history['val_loss'])\n",
    "plt.title('VGG16 model loss')\n",
    "plt.ylabel('loss')\n",
    "plt.xlabel('epoch')\n",
    "plt.legend(['train', 'test'], loc='upper left')\n",
    "plt.grid(True)\n",
    "plt.show()"
   ]
  }
 ],
 "metadata": {
  "kernelspec": {
   "display_name": "Python 3",
   "language": "python",
   "name": "python3"
  },
  "language_info": {
   "codemirror_mode": {
    "name": "ipython",
    "version": 3
   },
   "file_extension": ".py",
   "mimetype": "text/x-python",
   "name": "python",
   "nbconvert_exporter": "python",
   "pygments_lexer": "ipython3",
   "version": "3.10.7"
  },
  "orig_nbformat": 4,
  "vscode": {
   "interpreter": {
    "hash": "0d72b21489300652f2337cd7f80c57cc00ce6bbc92cf98d285c178d0a8ced433"
   }
  }
 },
 "nbformat": 4,
 "nbformat_minor": 2
}
